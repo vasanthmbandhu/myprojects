{
  "nbformat": 4,
  "nbformat_minor": 0,
  "metadata": {
    "anaconda-cloud": {},
    "kernelspec": {
      "display_name": "Python 3",
      "language": "python",
      "name": "python3"
    },
    "language_info": {
      "codemirror_mode": {
        "name": "ipython",
        "version": 3
      },
      "file_extension": ".py",
      "mimetype": "text/x-python",
      "name": "python",
      "nbconvert_exporter": "python",
      "pygments_lexer": "ipython3",
      "version": "3.7.7"
    },
    "colab": {
      "name": "assembly_line_correlation.ipynb",
      "provenance": []
    }
  },
  "cells": [
    {
      "cell_type": "code",
      "metadata": {
        "id": "l8nQj9JlIZpB"
      },
      "source": [
        "import pandas as pd\n",
        "import numpy as np\n",
        "import random\n",
        "import matplotlib.pyplot as plt\n",
        "from sklearn.linear_model import LinearRegression\n",
        "from sklearn.model_selection import train_test_split\n",
        "from sklearn.ensemble import RandomForestRegressor\n",
        "from sklearn.datasets import make_regression"
      ],
      "execution_count": null,
      "outputs": []
    },
    {
      "cell_type": "code",
      "metadata": {
        "collapsed": true,
        "id": "5--Cgb8hIZpO"
      },
      "source": [
        "rows = 500000\n",
        "t1 = 10\n",
        "t2 = 11"
      ],
      "execution_count": null,
      "outputs": []
    },
    {
      "cell_type": "code",
      "metadata": {
        "collapsed": true,
        "id": "tXUsFs2SIZpP"
      },
      "source": [
        "# time = np.random.uniform(2, 5, size=20)\n",
        "time = np.random.randint(t1, t2, size = rows)"
      ],
      "execution_count": null,
      "outputs": []
    },
    {
      "cell_type": "code",
      "metadata": {
        "collapsed": true,
        "id": "45P775uBIZpP"
      },
      "source": [
        "data_df = pd.DataFrame()"
      ],
      "execution_count": null,
      "outputs": []
    },
    {
      "cell_type": "code",
      "metadata": {
        "collapsed": true,
        "id": "Vk0hOBUWIZpQ"
      },
      "source": [
        "data_df['time_in_mins'] = np.cumsum(time)"
      ],
      "execution_count": null,
      "outputs": []
    },
    {
      "cell_type": "code",
      "metadata": {
        "id": "ESYqpyGkIZpQ"
      },
      "source": [
        "data_df.head(30)"
      ],
      "execution_count": null,
      "outputs": []
    },
    {
      "cell_type": "code",
      "metadata": {
        "id": "1G2rKfdUIZpS"
      },
      "source": [
        "data = np.arange(0,2,1) \n",
        "data1 = np.repeat(data,5)\n",
        "data2 = np.tile(data1,50000)"
      ],
      "execution_count": null,
      "outputs": []
    },
    {
      "cell_type": "code",
      "metadata": {
        "id": "R_YQXb2MIZpS"
      },
      "source": [
        "data_df['product_quality'] = data2"
      ],
      "execution_count": null,
      "outputs": []
    },
    {
      "cell_type": "code",
      "metadata": {
        "id": "U1lz3Ny0IZpT"
      },
      "source": [
        "data_df.head(20)"
      ],
      "execution_count": null,
      "outputs": []
    },
    {
      "cell_type": "code",
      "metadata": {
        "collapsed": true,
        "id": "Sao6hMXHIZpT"
      },
      "source": [
        "data_df['product_quality'].replace(0,\"Standard\",inplace=True)\n",
        "data_df['product_quality'].replace(1,\"Warning\",inplace=True)"
      ],
      "execution_count": null,
      "outputs": []
    },
    {
      "cell_type": "code",
      "metadata": {
        "id": "fpI-xZv4IZpU"
      },
      "source": [
        "data_df.describe()"
      ],
      "execution_count": null,
      "outputs": []
    },
    {
      "cell_type": "code",
      "metadata": {
        "scrolled": true,
        "id": "dtvdTWd_IZpW"
      },
      "source": [
        "warning = pd.DataFrame()\n",
        "standard = pd.DataFrame()\n",
        "warning = data_df[data_df.product_quality==\"Warning\"]\n",
        "standard = data_df[data_df.product_quality ==\"Standard\"]\n"
      ],
      "execution_count": null,
      "outputs": []
    },
    {
      "cell_type": "code",
      "metadata": {
        "scrolled": true,
        "id": "yKjr0Gh6IZpW"
      },
      "source": [
        "a = 250000\n",
        "b = 250000\n",
        "current_std = np.random.uniform(24,30,size = a)\n",
        "voltage_std = np.random.uniform(220,245,size = a)\n",
        "freq_std = np.random.uniform(500,2000,size = a)\n",
        "rot_std = np.random.uniform(600,900,size = a)\n",
        "temp_std = np.random.uniform(21,29,size = a)\n",
        "hum_std = np.random.uniform(30,55,size = a)\n",
        "current_war = np.random.uniform(28,34,size = b)\n",
        "voltage_war = np.random.uniform(200,240,size = b)\n",
        "freq_war = np.random.uniform(1000,3000,size = b)\n",
        "rot_war = np.random.uniform(500,700,size = b)\n",
        "temp_war = np.random.uniform(23,40,size =b)\n",
        "hum_war = np.random.uniform(30,55,size = b)\n",
        "avb04_std = np.random.uniform(75,99,size = a)\n",
        "avb04_war = np.random.uniform(40,75,size = b)\n",
        "avb26_std = np.random.uniform(75,99,size = a)\n",
        "avb26_war = np.random.uniform(0,40,size = b)\n",
        "avb48_std = np.random.uniform(75,99,size = a)\n",
        "avb48_war = np.random.uniform(40,75,size = b)\n"
      ],
      "execution_count": null,
      "outputs": []
    },
    {
      "cell_type": "code",
      "metadata": {
        "id": "oJv9A3IOIZpX"
      },
      "source": [
        "standard['current'] = current_std.astype('int').tolist()\n",
        "standard['voltage'] = voltage_std.astype('int').tolist()\n",
        "standard['frequency'] = freq_std.astype('int').tolist()\n",
        "standard['rot_speed'] = rot_std.astype('int').tolist()\n",
        "standard['temperature'] = temp_std.astype('int').tolist()\n",
        "standard['humidity'] = hum_std.astype('int').tolist()\n",
        "standard['availability_0_4'] = avb04_std.astype('int').tolist()\n",
        "standard['availability_2_6'] = avb26_std.astype('int').tolist()\n",
        "standard['availability_4_8'] = avb48_std.astype('int').tolist()\n",
        "\n",
        "warning['current'] = current_war.astype('int').tolist()\n",
        "warning['voltage'] = voltage_war.astype('int').tolist()\n",
        "warning['frequency'] = freq_war.astype('int').tolist()\n",
        "warning['rot_speed'] = rot_war.astype('int').tolist()\n",
        "warning['temperature'] = temp_war.astype('int').tolist()\n",
        "warning['humidity'] = hum_war.astype('int').tolist()\n",
        "warning['availability_0_4'] = avb04_war.astype('int').tolist()\n",
        "warning['availability_2_6'] = avb26_war.astype('int').tolist()\n",
        "warning['availability_4_8'] = avb48_war.astype('int').tolist()"
      ],
      "execution_count": null,
      "outputs": []
    },
    {
      "cell_type": "code",
      "metadata": {
        "id": "f5p5ZeUzIZpZ"
      },
      "source": [
        "data_df = pd.concat([warning,standard]) "
      ],
      "execution_count": null,
      "outputs": []
    },
    {
      "cell_type": "code",
      "metadata": {
        "id": "wLU24JdAIZpZ"
      },
      "source": [
        "data_df = data_df.sort_values('time_in_mins')"
      ],
      "execution_count": null,
      "outputs": []
    },
    {
      "cell_type": "code",
      "metadata": {
        "id": "p2fBL6P_IZpa"
      },
      "source": [
        "data_df.head(10)"
      ],
      "execution_count": null,
      "outputs": []
    },
    {
      "cell_type": "code",
      "metadata": {
        "id": "9DGTleIiIZpa"
      },
      "source": [
        "feature_cols = ['current','voltage','frequency','rot_speed','temperature','humidity']\n",
        "X = data_df[feature_cols]\n",
        "X.head()\n",
        "\n",
        "\n",
        "y1 = data_df['availability_0_4']\n",
        "y2 = data_df['availability_2_6']\n",
        "y3 = data_df['availability_4_8']"
      ],
      "execution_count": null,
      "outputs": []
    },
    {
      "cell_type": "code",
      "metadata": {
        "id": "dmHWlinTIZpa"
      },
      "source": [
        "X_train, X_test, y1_train, y1_test = train_test_split(X, y1, test_size=0.25)\n",
        "reg = LinearRegression().fit(X_train, y1_train)\n",
        "print(reg.score(X,y1))\n",
        "predictions = reg.predict(X)\n",
        "data_df['availability_0_4_predicted'] = predictions"
      ],
      "execution_count": null,
      "outputs": []
    },
    {
      "cell_type": "code",
      "metadata": {
        "collapsed": true,
        "id": "a--RjT4yIZpb"
      },
      "source": [
        "data_df['availability_0_4_new'] = (data_df['availability_0_4'] + data_df['availability_0_4_predicted'])/2\n",
        "y = data_df['availability_0_4_new']"
      ],
      "execution_count": null,
      "outputs": []
    },
    {
      "cell_type": "code",
      "metadata": {
        "id": "TnAL-2z8IZpb"
      },
      "source": [
        "X_train, X_test, y_train, y_test = train_test_split(X, y, test_size=0.25)\n",
        "regressor = RandomForestRegressor(n_estimators = 100, max_depth = 15, random_state = 0)\n",
        "regressor.fit(X_train,y_train)\n",
        "print(regressor.score(X,y))"
      ],
      "execution_count": null,
      "outputs": []
    },
    {
      "cell_type": "code",
      "metadata": {
        "id": "HX26kQc3IZpb"
      },
      "source": [
        "X_train, X_test, y2_train, y2_test = train_test_split(X, y2, test_size=0.25)\n",
        "reg = LinearRegression().fit(X_train, y2_train)\n",
        "print(reg.score(X,y2))\n",
        "predictions = reg.predict(X)\n",
        "data_df['availability_2_6_predicted'] = predictions"
      ],
      "execution_count": null,
      "outputs": []
    },
    {
      "cell_type": "code",
      "metadata": {
        "collapsed": true,
        "id": "dZPlmdLqIZpc"
      },
      "source": [
        "data_df['availability_2_6_new'] = (data_df['availability_2_6'] + data_df['availability_2_6_predicted'])/2\n",
        "y = data_df['availability_2_6_new']"
      ],
      "execution_count": null,
      "outputs": []
    },
    {
      "cell_type": "code",
      "metadata": {
        "id": "xLgC-DrWIZpc"
      },
      "source": [
        "X_train, X_test, y_train, y_test = train_test_split(X, y, test_size=0.25)\n",
        "regressor = RandomForestRegressor(n_estimators = 100, max_depth = 15, random_state = 0)\n",
        "regressor.fit(X_train,y_train)\n",
        "print(regressor.score(X,y))"
      ],
      "execution_count": null,
      "outputs": []
    },
    {
      "cell_type": "code",
      "metadata": {
        "id": "YsaaoQ9dIZpc"
      },
      "source": [
        "X_train, X_test, y3_train, y3_test = train_test_split(X, y3, test_size=0.25)\n",
        "reg = LinearRegression().fit(X_train, y3_train)\n",
        "print(reg.score(X,y3))\n",
        "predictions = reg.predict(X)\n",
        "data_df['availability_4_8_predicted'] = predictions"
      ],
      "execution_count": null,
      "outputs": []
    },
    {
      "cell_type": "code",
      "metadata": {
        "collapsed": true,
        "id": "-J7vYmXUIZpd"
      },
      "source": [
        "data_df['availability_4_8_new'] = (data_df['availability_4_8'] + data_df['availability_4_8_predicted'])/2\n",
        "y = data_df['availability_4_8_new']"
      ],
      "execution_count": null,
      "outputs": []
    },
    {
      "cell_type": "code",
      "metadata": {
        "id": "1bAWPvH_IZpd"
      },
      "source": [
        "X_train, X_test, y_train, y_test = train_test_split(X, y, test_size=0.25)\n",
        "regressor = RandomForestRegressor(n_estimators = 100, max_depth = 15, random_state = 0)\n",
        "regressor.fit(X_train,y_train)\n",
        "print(regressor.score(X,y))"
      ],
      "execution_count": null,
      "outputs": []
    },
    {
      "cell_type": "code",
      "metadata": {
        "collapsed": true,
        "id": "eJ8-gf_NIZpe"
      },
      "source": [
        ""
      ],
      "execution_count": null,
      "outputs": []
    }
  ]
}