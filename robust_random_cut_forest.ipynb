{
  "nbformat": 4,
  "nbformat_minor": 0,
  "metadata": {
    "accelerator": "GPU",
    "colab": {
      "name": "robust_random_cut_forest.ipynb",
      "provenance": [],
      "collapsed_sections": [],
      "authorship_tag": "ABX9TyNgiFcMQ86tf9r9FpatlqPz",
      "include_colab_link": true
    },
    "kernelspec": {
      "display_name": "Python 3",
      "name": "python3"
    }
  },
  "cells": [
    {
      "cell_type": "markdown",
      "metadata": {
        "id": "view-in-github",
        "colab_type": "text"
      },
      "source": [
        "<a href=\"https://colab.research.google.com/github/vasanthmbandhu/myprojects/blob/main/robust_random_cut_forest.ipynb\" target=\"_parent\"><img src=\"https://colab.research.google.com/assets/colab-badge.svg\" alt=\"Open In Colab\"/></a>"
      ]
    },
    {
      "cell_type": "code",
      "metadata": {
        "colab": {
          "base_uri": "https://localhost:8080/"
        },
        "id": "zxmWtt5wG6ju",
        "outputId": "44b9ed15-1bfc-4299-9257-1c7fc8a4321d"
      },
      "source": [
        "pip install rrcf"
      ],
      "execution_count": 1,
      "outputs": [
        {
          "output_type": "stream",
          "text": [
            "Collecting rrcf\n",
            "  Downloading https://files.pythonhosted.org/packages/36/ac/e43a9774d85e97e9cd877c8da1dd3eacc0644848afe223f25b6e1b21b006/rrcf-0.4.3.tar.gz\n",
            "Requirement already satisfied: numpy in /usr/local/lib/python3.6/dist-packages (from rrcf) (1.18.5)\n",
            "Building wheels for collected packages: rrcf\n",
            "  Building wheel for rrcf (setup.py) ... \u001b[?25l\u001b[?25hdone\n",
            "  Created wheel for rrcf: filename=rrcf-0.4.3-cp36-none-any.whl size=9811 sha256=715ae1267a8f5cb447819618589b7025da64c0d0a996cfe641cc1f42c7d50a0e\n",
            "  Stored in directory: /root/.cache/pip/wheels/6c/7c/b7/8983591821eb2c00a31795b29232dcedc4d7fad70a6c663870\n",
            "Successfully built rrcf\n",
            "Installing collected packages: rrcf\n",
            "Successfully installed rrcf-0.4.3\n"
          ],
          "name": "stdout"
        }
      ]
    },
    {
      "cell_type": "code",
      "metadata": {
        "id": "LqsG5XkNHPZF"
      },
      "source": [
        "import numpy as np\n",
        "import rrcf\n",
        "import pandas as pd\n",
        "from sklearn.preprocessing import MinMaxScaler"
      ],
      "execution_count": 2,
      "outputs": []
    },
    {
      "cell_type": "code",
      "metadata": {
        "id": "IyaZHlZ75zWb",
        "colab": {
          "resources": {
            "http://localhost:8080/nbextensions/google.colab/files.js": {
              "data": "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",
              "ok": true,
              "headers": [
                [
                  "content-type",
                  "application/javascript"
                ]
              ],
              "status": 200,
              "status_text": ""
            }
          },
          "base_uri": "https://localhost:8080/",
          "height": 72
        },
        "outputId": "ad333ead-70cf-47ae-adc3-5ba15d2d4faf"
      },
      "source": [
        "from google.colab import files\n",
        "files=files.upload()"
      ],
      "execution_count": 3,
      "outputs": [
        {
          "output_type": "display_data",
          "data": {
            "text/html": [
              "\n",
              "     <input type=\"file\" id=\"files-2c0f8045-d5c8-4d65-8950-287460656fb6\" name=\"files[]\" multiple disabled\n",
              "        style=\"border:none\" />\n",
              "     <output id=\"result-2c0f8045-d5c8-4d65-8950-287460656fb6\">\n",
              "      Upload widget is only available when the cell has been executed in the\n",
              "      current browser session. Please rerun this cell to enable.\n",
              "      </output>\n",
              "      <script src=\"/nbextensions/google.colab/files.js\"></script> "
            ],
            "text/plain": [
              "<IPython.core.display.HTML object>"
            ]
          },
          "metadata": {
            "tags": []
          }
        },
        {
          "output_type": "stream",
          "text": [
            "Saving dec3.csv to dec3.csv\n"
          ],
          "name": "stdout"
        }
      ]
    },
    {
      "cell_type": "code",
      "metadata": {
        "id": "Z8T2eQnS5Xkv"
      },
      "source": [
        "df = pd.read_csv('dec3.csv')"
      ],
      "execution_count": 4,
      "outputs": []
    },
    {
      "cell_type": "code",
      "metadata": {
        "id": "rf8Mp-uHs-U1"
      },
      "source": [
        "bandwidth = df['bandwidth(MBps)']\n",
        "arr1 = bandwidth[4099:14099]\n",
        "arr1 = arr1.dropna()"
      ],
      "execution_count": 5,
      "outputs": []
    },
    {
      "cell_type": "code",
      "metadata": {
        "id": "cHE1cZpxtZ2y"
      },
      "source": [
        "arr1 = arr1.to_numpy()\n",
        "arr1 = arr1.reshape(-1, 1)\n",
        "min_max_scaler = MinMaxScaler()\n",
        "arr1 = min_max_scaler.fit_transform(arr1)\n",
        "arr1 = arr1.reshape(-1,1)"
      ],
      "execution_count": 6,
      "outputs": []
    },
    {
      "cell_type": "code",
      "metadata": {
        "id": "KuaPXnjACSOz"
      },
      "source": [
        "bandwidth = pd.DataFrame(data = arr1)"
      ],
      "execution_count": 7,
      "outputs": []
    },
    {
      "cell_type": "code",
      "metadata": {
        "id": "jF8WQ_GBu-T8"
      },
      "source": [
        "bandwidth['time'] = df['time']"
      ],
      "execution_count": 8,
      "outputs": []
    },
    {
      "cell_type": "code",
      "metadata": {
        "id": "MeCryo6qDBxM"
      },
      "source": [
        "# Set tree parameters\n",
        "num_trees = 100\n",
        "shingle_size = 1\n",
        "tree_size = 128\n",
        "\n",
        "\n",
        "# Create a forest of empty trees\n",
        "forest = []\n",
        "for _ in range(num_trees):\n",
        "    tree = rrcf.RCTree()\n",
        "    forest.append(tree)\n",
        "\n",
        "# Create a dict to store anomaly score of each point\n",
        "avg_codisp = {}\n",
        "    \n",
        "# Use the \"shingle\" generator to create rolling window\n",
        "points = rrcf.shingle(arr1, size=shingle_size)\n",
        "\n",
        "# For each shingle...\n",
        "for index, point in enumerate(points):\n",
        "    # For each tree in the forest...\n",
        "    for tree in forest:\n",
        "        # If tree is above permitted size, drop the oldest point (FIFO)\n",
        "        if len(tree.leaves) > tree_size:\n",
        "            tree.forget_point(index - tree_size)\n",
        "        # Insert the new point into the tree\n",
        "        tree.insert_point(point, index=index)\n",
        "        # Compute codisp on the new point and take the average among all trees\n",
        "        if not index in avg_codisp:\n",
        "            avg_codisp[index] = 0\n",
        "        avg_codisp[index] += tree.codisp(index) / num_trees"
      ],
      "execution_count": 9,
      "outputs": []
    },
    {
      "cell_type": "code",
      "metadata": {
        "colab": {
          "base_uri": "https://localhost:8080/"
        },
        "id": "cMQHETyN1Wxd",
        "outputId": "5e1d97c0-6da7-4486-b287-37e33cbb39ba"
      },
      "source": [
        "df1 = pd.DataFrame.from_dict(avg_codisp,orient ='index')\n",
        "df1.quantile(0.98)"
      ],
      "execution_count": 10,
      "outputs": [
        {
          "output_type": "execute_result",
          "data": {
            "text/plain": [
              "0    22.203016\n",
              "Name: 0.98, dtype: float64"
            ]
          },
          "metadata": {
            "tags": []
          },
          "execution_count": 10
        }
      ]
    },
    {
      "cell_type": "code",
      "metadata": {
        "id": "DF1rJvXs4QTO",
        "colab": {
          "base_uri": "https://localhost:8080/",
          "height": 204
        },
        "outputId": "1a4d4214-5631-4039-b8d2-04be558afaa9"
      },
      "source": [
        "bandwidth['CoDisp']= df1\n",
        "bandwidth.head()"
      ],
      "execution_count": 11,
      "outputs": [
        {
          "output_type": "execute_result",
          "data": {
            "text/html": [
              "<div>\n",
              "<style scoped>\n",
              "    .dataframe tbody tr th:only-of-type {\n",
              "        vertical-align: middle;\n",
              "    }\n",
              "\n",
              "    .dataframe tbody tr th {\n",
              "        vertical-align: top;\n",
              "    }\n",
              "\n",
              "    .dataframe thead th {\n",
              "        text-align: right;\n",
              "    }\n",
              "</style>\n",
              "<table border=\"1\" class=\"dataframe\">\n",
              "  <thead>\n",
              "    <tr style=\"text-align: right;\">\n",
              "      <th></th>\n",
              "      <th>0</th>\n",
              "      <th>time</th>\n",
              "      <th>CoDisp</th>\n",
              "    </tr>\n",
              "  </thead>\n",
              "  <tbody>\n",
              "    <tr>\n",
              "      <th>0</th>\n",
              "      <td>0.977539</td>\n",
              "      <td>2020-11-17T21:02:59.779413Z</td>\n",
              "      <td>0.00</td>\n",
              "    </tr>\n",
              "    <tr>\n",
              "      <th>1</th>\n",
              "      <td>0.991937</td>\n",
              "      <td>2020-11-17T21:03:00.255132Z</td>\n",
              "      <td>1.00</td>\n",
              "    </tr>\n",
              "    <tr>\n",
              "      <th>2</th>\n",
              "      <td>0.990750</td>\n",
              "      <td>2020-11-17T21:03:00.918231Z</td>\n",
              "      <td>1.00</td>\n",
              "    </tr>\n",
              "    <tr>\n",
              "      <th>3</th>\n",
              "      <td>0.990553</td>\n",
              "      <td>2020-11-17T21:03:01.157192Z</td>\n",
              "      <td>1.00</td>\n",
              "    </tr>\n",
              "    <tr>\n",
              "      <th>4</th>\n",
              "      <td>0.992334</td>\n",
              "      <td>2020-11-17T21:03:37.939351Z</td>\n",
              "      <td>1.55</td>\n",
              "    </tr>\n",
              "  </tbody>\n",
              "</table>\n",
              "</div>"
            ],
            "text/plain": [
              "          0                         time  CoDisp\n",
              "0  0.977539  2020-11-17T21:02:59.779413Z    0.00\n",
              "1  0.991937  2020-11-17T21:03:00.255132Z    1.00\n",
              "2  0.990750  2020-11-17T21:03:00.918231Z    1.00\n",
              "3  0.990553  2020-11-17T21:03:01.157192Z    1.00\n",
              "4  0.992334  2020-11-17T21:03:37.939351Z    1.55"
            ]
          },
          "metadata": {
            "tags": []
          },
          "execution_count": 11
        }
      ]
    },
    {
      "cell_type": "code",
      "metadata": {
        "colab": {
          "base_uri": "https://localhost:8080/",
          "height": 204
        },
        "id": "GChvulEd8GSU",
        "outputId": "ad0dc327-0373-4efc-8351-4d9dbfe39a83"
      },
      "source": [
        "list1 = bandwidth['CoDisp']>25\n",
        "bandwidth['Anomaly']=list1\n",
        "bandwidth.head()"
      ],
      "execution_count": 12,
      "outputs": [
        {
          "output_type": "execute_result",
          "data": {
            "text/html": [
              "<div>\n",
              "<style scoped>\n",
              "    .dataframe tbody tr th:only-of-type {\n",
              "        vertical-align: middle;\n",
              "    }\n",
              "\n",
              "    .dataframe tbody tr th {\n",
              "        vertical-align: top;\n",
              "    }\n",
              "\n",
              "    .dataframe thead th {\n",
              "        text-align: right;\n",
              "    }\n",
              "</style>\n",
              "<table border=\"1\" class=\"dataframe\">\n",
              "  <thead>\n",
              "    <tr style=\"text-align: right;\">\n",
              "      <th></th>\n",
              "      <th>0</th>\n",
              "      <th>time</th>\n",
              "      <th>CoDisp</th>\n",
              "      <th>Anomaly</th>\n",
              "    </tr>\n",
              "  </thead>\n",
              "  <tbody>\n",
              "    <tr>\n",
              "      <th>0</th>\n",
              "      <td>0.977539</td>\n",
              "      <td>2020-11-17T21:02:59.779413Z</td>\n",
              "      <td>0.00</td>\n",
              "      <td>False</td>\n",
              "    </tr>\n",
              "    <tr>\n",
              "      <th>1</th>\n",
              "      <td>0.991937</td>\n",
              "      <td>2020-11-17T21:03:00.255132Z</td>\n",
              "      <td>1.00</td>\n",
              "      <td>False</td>\n",
              "    </tr>\n",
              "    <tr>\n",
              "      <th>2</th>\n",
              "      <td>0.990750</td>\n",
              "      <td>2020-11-17T21:03:00.918231Z</td>\n",
              "      <td>1.00</td>\n",
              "      <td>False</td>\n",
              "    </tr>\n",
              "    <tr>\n",
              "      <th>3</th>\n",
              "      <td>0.990553</td>\n",
              "      <td>2020-11-17T21:03:01.157192Z</td>\n",
              "      <td>1.00</td>\n",
              "      <td>False</td>\n",
              "    </tr>\n",
              "    <tr>\n",
              "      <th>4</th>\n",
              "      <td>0.992334</td>\n",
              "      <td>2020-11-17T21:03:37.939351Z</td>\n",
              "      <td>1.55</td>\n",
              "      <td>False</td>\n",
              "    </tr>\n",
              "  </tbody>\n",
              "</table>\n",
              "</div>"
            ],
            "text/plain": [
              "          0                         time  CoDisp  Anomaly\n",
              "0  0.977539  2020-11-17T21:02:59.779413Z    0.00    False\n",
              "1  0.991937  2020-11-17T21:03:00.255132Z    1.00    False\n",
              "2  0.990750  2020-11-17T21:03:00.918231Z    1.00    False\n",
              "3  0.990553  2020-11-17T21:03:01.157192Z    1.00    False\n",
              "4  0.992334  2020-11-17T21:03:37.939351Z    1.55    False"
            ]
          },
          "metadata": {
            "tags": []
          },
          "execution_count": 12
        }
      ]
    },
    {
      "cell_type": "code",
      "metadata": {
        "id": "gdmeRzWxyt3s"
      },
      "source": [
        "bandwidth.columns = ['bandwidth(MBps)','Time','CoDisp','Anomaly']"
      ],
      "execution_count": 13,
      "outputs": []
    },
    {
      "cell_type": "code",
      "metadata": {
        "colab": {
          "base_uri": "https://localhost:8080/",
          "height": 282
        },
        "id": "wNrvayZz9Shj",
        "outputId": "7596f67e-8a65-4c79-e957-52cd466bc2ae"
      },
      "source": [
        "import matplotlib.pyplot as plt\n",
        "a = np.arange(0,len(bandwidth))\n",
        "plt.plot(a,bandwidth['bandwidth(MBps)'],'b')"
      ],
      "execution_count": 14,
      "outputs": [
        {
          "output_type": "execute_result",
          "data": {
            "text/plain": [
              "[<matplotlib.lines.Line2D at 0x7ff9f4dcae10>]"
            ]
          },
          "metadata": {
            "tags": []
          },
          "execution_count": 14
        },
        {
          "output_type": "display_data",
          "data": {
            "image/png": "[encoded data removed]",
            "text/plain": [
              "<Figure size 432x288 with 1 Axes>"
            ]
          },
          "metadata": {
            "tags": [],
            "needs_background": "light"
          }
        }
      ]
    },
    {
      "cell_type": "code",
      "metadata": {
        "id": "1JqMVFLdADOq"
      },
      "source": [
        "anomaly={}\n",
        "for index, row in bandwidth.iterrows():\n",
        "  if row['Anomaly'] == True:\n",
        "    anomaly[index] = row['bandwidth(MBps)']"
      ],
      "execution_count": 15,
      "outputs": []
    },
    {
      "cell_type": "code",
      "metadata": {
        "id": "Wk2fHflEA5xc",
        "colab": {
          "base_uri": "https://localhost:8080/",
          "height": 265
        },
        "outputId": "3a9fedea-ac44-413a-826e-a43237774df4"
      },
      "source": [
        "plt.figure(figsize=(16,4))\n",
        "plt.plot(a,bandwidth['bandwidth(MBps)'],'b',alpha=0.2)\n",
        "for key in anomaly:\n",
        "    plt.scatter(key, anomaly[key],color='red')\n"
      ],
      "execution_count": 16,
      "outputs": [
        {
          "output_type": "display_data",
          "data": {
            "image/png": "[encoded data removed]",
            "text/plain": [
              "<Figure size 1152x288 with 1 Axes>"
            ]
          },
          "metadata": {
            "tags": [],
            "needs_background": "light"
          }
        }
      ]
    },
    {
      "cell_type": "code",
      "metadata": {
        "id": "N-LercgX4X_N"
      },
      "source": [
        "#bandwidth.to_csv('bandwidth.csv')\n",
        "#from google.colab import files\n",
        "#files.download(\"bandwidth.csv\")"
      ],
      "execution_count": 17,
      "outputs": []
    },
    {
      "cell_type": "code",
      "metadata": {
        "id": "UKyCpNKW3JpI",
        "colab": {
          "base_uri": "https://localhost:8080/",
          "height": 496
        },
        "outputId": "d813e52f-6336-4e4b-b7d8-c0714f7f503b"
      },
      "source": [
        "df['time'] = pd.to_datetime(df['time'])\r\n",
        "df.head()"
      ],
      "execution_count": 18,
      "outputs": [
        {
          "output_type": "execute_result",
          "data": {
            "text/html": [
              "<div>\n",
              "<style scoped>\n",
              "    .dataframe tbody tr th:only-of-type {\n",
              "        vertical-align: middle;\n",
              "    }\n",
              "\n",
              "    .dataframe tbody tr th {\n",
              "        vertical-align: top;\n",
              "    }\n",
              "\n",
              "    .dataframe thead th {\n",
              "        text-align: right;\n",
              "    }\n",
              "</style>\n",
              "<table border=\"1\" class=\"dataframe\">\n",
              "  <thead>\n",
              "    <tr style=\"text-align: right;\">\n",
              "      <th></th>\n",
              "      <th>name</th>\n",
              "      <th>time</th>\n",
              "      <th>bandwidth(MBps)</th>\n",
              "      <th>env</th>\n",
              "      <th>env_1</th>\n",
              "      <th>exp_instances</th>\n",
              "      <th>fail_count</th>\n",
              "      <th>host_ip</th>\n",
              "      <th>host_ip_address</th>\n",
              "      <th>instance</th>\n",
              "      <th>instance_id</th>\n",
              "      <th>instances</th>\n",
              "      <th>iteration_count</th>\n",
              "      <th>iteration_result</th>\n",
              "      <th>scale_type</th>\n",
              "      <th>sequence</th>\n",
              "      <th>size(MB)</th>\n",
              "      <th>sla-action</th>\n",
              "      <th>sla-min_bandwidth</th>\n",
              "      <th>status</th>\n",
              "      <th>task_id</th>\n",
              "      <th>test_case_name</th>\n",
              "      <th>test_name</th>\n",
              "      <th>test_result</th>\n",
              "      <th>test_start_timestamp</th>\n",
              "      <th>url_per_instance</th>\n",
              "    </tr>\n",
              "  </thead>\n",
              "  <tbody>\n",
              "    <tr>\n",
              "      <th>0</th>\n",
              "      <td>cp_test_tc012</td>\n",
              "      <td>2020-11-17 21:02:59.779413+00:00</td>\n",
              "      <td>9154.90</td>\n",
              "      <td>Auto_DUTProfile_Vsphere_34_81</td>\n",
              "      <td>Auto_DUTProfile_Vsphere_34_81</td>\n",
              "      <td>4</td>\n",
              "      <td>1.0</td>\n",
              "      <td>10.39.34.238</td>\n",
              "      <td>10.39.34.92</td>\n",
              "      <td>4</td>\n",
              "      <td>4</td>\n",
              "      <td>4</td>\n",
              "      <td>1</td>\n",
              "      <td>0.0</td>\n",
              "      <td>Scaled</td>\n",
              "      <td>1</td>\n",
              "      <td>2.05078</td>\n",
              "      <td>monitor</td>\n",
              "      <td>10000.0</td>\n",
              "      <td>0</td>\n",
              "      <td>b539815b-187c-4b60-a151-5aa88fd8dce3</td>\n",
              "      <td>YTC012 Memory Bandwidth</td>\n",
              "      <td>YTC012 Memory Bandwidth</td>\n",
              "      <td>0</td>\n",
              "      <td>1.605646e+09</td>\n",
              "      <td>/d/ytc012-per-instance/?orgId=1&amp;from=160564625...</td>\n",
              "    </tr>\n",
              "    <tr>\n",
              "      <th>1</th>\n",
              "      <td>cp_test_tc012</td>\n",
              "      <td>2020-11-17 21:03:00.255132+00:00</td>\n",
              "      <td>9081.71</td>\n",
              "      <td>Auto_DUTProfile_Vsphere_34_81</td>\n",
              "      <td>Auto_DUTProfile_Vsphere_34_81</td>\n",
              "      <td>4</td>\n",
              "      <td>1.0</td>\n",
              "      <td>10.39.34.238</td>\n",
              "      <td>10.39.35.15</td>\n",
              "      <td>1</td>\n",
              "      <td>1</td>\n",
              "      <td>4</td>\n",
              "      <td>1</td>\n",
              "      <td>0.0</td>\n",
              "      <td>Scaled</td>\n",
              "      <td>1</td>\n",
              "      <td>2.05078</td>\n",
              "      <td>monitor</td>\n",
              "      <td>10000.0</td>\n",
              "      <td>0</td>\n",
              "      <td>b539815b-187c-4b60-a151-5aa88fd8dce3</td>\n",
              "      <td>YTC012 Memory Bandwidth</td>\n",
              "      <td>YTC012 Memory Bandwidth</td>\n",
              "      <td>0</td>\n",
              "      <td>1.605646e+09</td>\n",
              "      <td>/d/ytc012-per-instance/?orgId=1&amp;from=160564625...</td>\n",
              "    </tr>\n",
              "    <tr>\n",
              "      <th>2</th>\n",
              "      <td>cp_test_tc012</td>\n",
              "      <td>2020-11-17 21:03:00.918231+00:00</td>\n",
              "      <td>9119.25</td>\n",
              "      <td>Auto_DUTProfile_Vsphere_34_81</td>\n",
              "      <td>Auto_DUTProfile_Vsphere_34_81</td>\n",
              "      <td>4</td>\n",
              "      <td>1.0</td>\n",
              "      <td>10.39.34.238</td>\n",
              "      <td>10.39.32.97</td>\n",
              "      <td>3</td>\n",
              "      <td>3</td>\n",
              "      <td>4</td>\n",
              "      <td>1</td>\n",
              "      <td>0.0</td>\n",
              "      <td>Scaled</td>\n",
              "      <td>1</td>\n",
              "      <td>2.05078</td>\n",
              "      <td>monitor</td>\n",
              "      <td>10000.0</td>\n",
              "      <td>0</td>\n",
              "      <td>b539815b-187c-4b60-a151-5aa88fd8dce3</td>\n",
              "      <td>YTC012 Memory Bandwidth</td>\n",
              "      <td>YTC012 Memory Bandwidth</td>\n",
              "      <td>0</td>\n",
              "      <td>1.605646e+09</td>\n",
              "      <td>/d/ytc012-per-instance/?orgId=1&amp;from=160564625...</td>\n",
              "    </tr>\n",
              "    <tr>\n",
              "      <th>3</th>\n",
              "      <td>cp_test_tc012</td>\n",
              "      <td>2020-11-17 21:03:01.157192+00:00</td>\n",
              "      <td>9112.63</td>\n",
              "      <td>Auto_DUTProfile_Vsphere_34_81</td>\n",
              "      <td>Auto_DUTProfile_Vsphere_34_81</td>\n",
              "      <td>4</td>\n",
              "      <td>1.0</td>\n",
              "      <td>10.39.34.238</td>\n",
              "      <td>10.39.34.40</td>\n",
              "      <td>2</td>\n",
              "      <td>2</td>\n",
              "      <td>4</td>\n",
              "      <td>1</td>\n",
              "      <td>0.0</td>\n",
              "      <td>Scaled</td>\n",
              "      <td>1</td>\n",
              "      <td>2.05078</td>\n",
              "      <td>monitor</td>\n",
              "      <td>10000.0</td>\n",
              "      <td>0</td>\n",
              "      <td>b539815b-187c-4b60-a151-5aa88fd8dce3</td>\n",
              "      <td>YTC012 Memory Bandwidth</td>\n",
              "      <td>YTC012 Memory Bandwidth</td>\n",
              "      <td>0</td>\n",
              "      <td>1.605646e+09</td>\n",
              "      <td>/d/ytc012-per-instance/?orgId=1&amp;from=160564625...</td>\n",
              "    </tr>\n",
              "    <tr>\n",
              "      <th>4</th>\n",
              "      <td>cp_test_tc012</td>\n",
              "      <td>2020-11-17 21:03:37.939351+00:00</td>\n",
              "      <td>9157.46</td>\n",
              "      <td>Auto_DUTProfile_Vsphere_34_81</td>\n",
              "      <td>Auto_DUTProfile_Vsphere_34_81</td>\n",
              "      <td>4</td>\n",
              "      <td>2.0</td>\n",
              "      <td>10.39.34.238</td>\n",
              "      <td>10.39.34.92</td>\n",
              "      <td>4</td>\n",
              "      <td>4</td>\n",
              "      <td>4</td>\n",
              "      <td>2</td>\n",
              "      <td>0.0</td>\n",
              "      <td>Scaled</td>\n",
              "      <td>2</td>\n",
              "      <td>2.05078</td>\n",
              "      <td>monitor</td>\n",
              "      <td>10000.0</td>\n",
              "      <td>0</td>\n",
              "      <td>b539815b-187c-4b60-a151-5aa88fd8dce3</td>\n",
              "      <td>YTC012 Memory Bandwidth</td>\n",
              "      <td>YTC012 Memory Bandwidth</td>\n",
              "      <td>0</td>\n",
              "      <td>1.605646e+09</td>\n",
              "      <td>/d/ytc012-per-instance/?orgId=1&amp;from=160564625...</td>\n",
              "    </tr>\n",
              "  </tbody>\n",
              "</table>\n",
              "</div>"
            ],
            "text/plain": [
              "            name  ...                                   url_per_instance\n",
              "0  cp_test_tc012  ...  /d/ytc012-per-instance/?orgId=1&from=160564625...\n",
              "1  cp_test_tc012  ...  /d/ytc012-per-instance/?orgId=1&from=160564625...\n",
              "2  cp_test_tc012  ...  /d/ytc012-per-instance/?orgId=1&from=160564625...\n",
              "3  cp_test_tc012  ...  /d/ytc012-per-instance/?orgId=1&from=160564625...\n",
              "4  cp_test_tc012  ...  /d/ytc012-per-instance/?orgId=1&from=160564625...\n",
              "\n",
              "[5 rows x 26 columns]"
            ]
          },
          "metadata": {
            "tags": []
          },
          "execution_count": 18
        }
      ]
    },
    {
      "cell_type": "code",
      "metadata": {
        "id": "CGKkb07G2dcN"
      },
      "source": [
        "test = df[(df['time'] > '2020-11-22 23:00:00') & (df['time'] < '2020-11-22 23:06:00')]"
      ],
      "execution_count": 19,
      "outputs": []
    },
    {
      "cell_type": "code",
      "metadata": {
        "id": "gxFhw6_KUF2t"
      },
      "source": [
        "#test = df['bandwidth(MBps)'][-200:]"
      ],
      "execution_count": 20,
      "outputs": []
    },
    {
      "cell_type": "code",
      "metadata": {
        "id": "PA44aVFyHqg3"
      },
      "source": [
        "bw = test['bandwidth(MBps)']\n",
        "bw = bw.dropna()\n",
        "bw = bw.to_numpy()"
      ],
      "execution_count": 49,
      "outputs": []
    },
    {
      "cell_type": "code",
      "metadata": {
        "colab": {
          "base_uri": "https://localhost:8080/"
        },
        "id": "RTqOyRtzIPyK",
        "outputId": "7e3b5876-6c0c-4123-e844-8027f7c928a4"
      },
      "source": [
        "len(bw)"
      ],
      "execution_count": 50,
      "outputs": [
        {
          "output_type": "execute_result",
          "data": {
            "text/plain": [
              "217"
            ]
          },
          "metadata": {
            "tags": []
          },
          "execution_count": 50
        }
      ]
    },
    {
      "cell_type": "code",
      "metadata": {
        "id": "_rX8nFxpCwAf"
      },
      "source": [
        "codisp=[]\r\n",
        "test_tree = rrcf.RCTree()\r\n",
        "for i in range(len(arr1)):\r\n",
        "  test_tree.insert_point(arr1[i],index=i)\r\n",
        "  codisp.append(test_tree.codisp(i))\r\n"
      ],
      "execution_count": 51,
      "outputs": []
    },
    {
      "cell_type": "code",
      "metadata": {
        "id": "IP0FQgRHeNRV"
      },
      "source": [
        "test_codisp=[]\n",
        "for i in range(len(bw)):\n",
        "  test_tree.insert_point(bw[i],index = i + len(arr1))\n",
        "  test_codisp.append(test_tree.codisp(i+len(arr1)))"
      ],
      "execution_count": 52,
      "outputs": []
    },
    {
      "cell_type": "code",
      "metadata": {
        "colab": {
          "base_uri": "https://localhost:8080/"
        },
        "id": "4-8tSOGtZPmW",
        "outputId": "6f0040af-8919-4f6a-d802-f1585d3d7d82"
      },
      "source": [
        "test_codisp1 = pd.DataFrame(data=test_codisp)\r\n",
        "test_codisp1.quantile(0.95)"
      ],
      "execution_count": 25,
      "outputs": [
        {
          "output_type": "execute_result",
          "data": {
            "text/plain": [
              "0    1663.366667\n",
              "Name: 0.95, dtype: float64"
            ]
          },
          "metadata": {
            "tags": []
          },
          "execution_count": 25
        }
      ]
    },
    {
      "cell_type": "code",
      "metadata": {
        "id": "lFkFhUHhS5Aj"
      },
      "source": [
        "import numpy as np\r\n",
        "from scipy.stats import norm\r\n",
        "import matplotlib.pyplot as plt\r\n",
        "\r\n",
        "\r\n",
        "mean,std=norm.fit(test_codisp)"
      ],
      "execution_count": 53,
      "outputs": []
    },
    {
      "cell_type": "code",
      "metadata": {
        "colab": {
          "base_uri": "https://localhost:8080/"
        },
        "id": "2ebNklAyTE7w",
        "outputId": "924327a2-16fe-4e84-d60b-7523274f7bac"
      },
      "source": [
        "print (mean,',', std)"
      ],
      "execution_count": 54,
      "outputs": [
        {
          "output_type": "stream",
          "text": [
            "492.58227416481435 , 1345.243182227871\n"
          ],
          "name": "stdout"
        }
      ]
    },
    {
      "cell_type": "code",
      "metadata": {
        "colab": {
          "base_uri": "https://localhost:8080/"
        },
        "id": "sJZgXIKdTm9R",
        "outputId": "99ebbb8f-6822-4d77-bf74-e075c4fd363b"
      },
      "source": [
        "anomaly={}\r\n",
        "i=0\r\n",
        "for num in test_codisp:\r\n",
        "  if num>(mean+6*std):\r\n",
        "    anomaly[i] = num\r\n",
        "  i = i+1\r\n",
        "anomaly"
      ],
      "execution_count": 55,
      "outputs": [
        {
          "output_type": "execute_result",
          "data": {
            "text/plain": [
              "{0: 9980.0, 13: 9980.0, 22: 9983.0}"
            ]
          },
          "metadata": {
            "tags": []
          },
          "execution_count": 55
        }
      ]
    },
    {
      "cell_type": "code",
      "metadata": {
        "colab": {
          "base_uri": "https://localhost:8080/",
          "height": 265
        },
        "id": "al53w4EfTn6q",
        "outputId": "70b4f922-8c77-460b-fb52-b80f4c3d842f"
      },
      "source": [
        "x = np.arange(len(bw))\r\n",
        "plt.figure(figsize=(16,4))\r\n",
        "plt.plot(x,test_codisp)\r\n",
        "for key in anomaly:\r\n",
        "    plt.scatter(key, anomaly[key],color='red')"
      ],
      "execution_count": 56,
      "outputs": [
        {
          "output_type": "display_data",
          "data": {
            "image/png": "[encoded data removed]",
            "text/plain": [
              "<Figure size 1152x288 with 1 Axes>"
            ]
          },
          "metadata": {
            "tags": [],
            "needs_background": "light"
          }
        }
      ]
    },
    {
      "cell_type": "code",
      "metadata": {
        "id": "qYNwhdk_VJxU"
      },
      "source": [
        "mean,std=norm.fit(codisp)\r\n"
      ],
      "execution_count": 65,
      "outputs": []
    },
    {
      "cell_type": "code",
      "metadata": {
        "id": "cLSgde-xVPvD"
      },
      "source": [
        "anomaly={}\r\n",
        "i=0\r\n",
        "for num in codisp:\r\n",
        "  if num>(mean+6*std):\r\n",
        "    anomaly[i] = num\r\n",
        "  i = i+1\r\n",
        "anomaly"
      ],
      "execution_count": null,
      "outputs": []
    },
    {
      "cell_type": "code",
      "metadata": {
        "colab": {
          "base_uri": "https://localhost:8080/",
          "height": 533
        },
        "id": "BJolzhLQVTN7",
        "outputId": "21a78a40-e24f-4025-dfd1-b30de9700c3e"
      },
      "source": [
        "x = np.arange(len(codisp))\r\n",
        "plt.figure(figsize=(24,10))\r\n",
        "plt.plot(x,codisp)\r\n",
        "for key in anomaly:\r\n",
        "    plt.scatter(key, anomaly[key],color='red')"
      ],
      "execution_count": 71,
      "outputs": [
        {
          "output_type": "display_data",
          "data": {
            "image/png": "[encoded data removed]",
            "text/plain": [
              "<Figure size 1728x720 with 1 Axes>"
            ]
          },
          "metadata": {
            "tags": [],
            "needs_background": "light"
          }
        }
      ]
    }
  ]
}