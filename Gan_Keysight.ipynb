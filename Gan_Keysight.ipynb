{
  "nbformat": 4,
  "nbformat_minor": 0,
  "metadata": {
    "colab": {
      "name": "Gan_Keysight.ipynb",
      "provenance": [],
      "collapsed_sections": [],
      "include_colab_link": true
    },
    "kernelspec": {
      "name": "python3",
      "display_name": "Python 3"
    },
    "accelerator": "GPU"
  },
  "cells": [
    {
      "cell_type": "markdown",
      "metadata": {
        "id": "view-in-github",
        "colab_type": "text"
      },
      "source": [
        "<a href=\"https://colab.research.google.com/github/vasanthmbandhu/myprojects/blob/main/Gan_Keysight.ipynb\" target=\"_parent\"><img src=\"https://colab.research.google.com/assets/colab-badge.svg\" alt=\"Open In Colab\"/></a>"
      ]
    },
    {
      "cell_type": "code",
      "metadata": {
        "id": "ceKCOZzYVpqC"
      },
      "source": [
        "import pandas as pd\n",
        "import os\n",
        "import numpy\n",
        "import matplotlib"
      ],
      "execution_count": null,
      "outputs": []
    },
    {
      "cell_type": "code",
      "metadata": {
        "id": "YTpAmgLWR2Vk"
      },
      "source": [
        "import tensorflow as tf\n",
        "tf.test.gpu_device_name()"
      ],
      "execution_count": null,
      "outputs": []
    },
    {
      "cell_type": "code",
      "metadata": {
        "id": "q_iR9H-lWknc"
      },
      "source": [
        "from google.colab import files\n",
        "data_to_load = files.upload()"
      ],
      "execution_count": null,
      "outputs": []
    },
    {
      "cell_type": "code",
      "metadata": {
        "id": "SoaQKAcIZNIv"
      },
      "source": [
        "import io\n",
        "df = pd.read_csv(io.BytesIO(data_to_load['es.csv']))"
      ],
      "execution_count": null,
      "outputs": []
    },
    {
      "cell_type": "code",
      "metadata": {
        "id": "elDHGbV2ZSeS"
      },
      "source": [
        "df.head(15)"
      ],
      "execution_count": null,
      "outputs": []
    },
    {
      "cell_type": "code",
      "metadata": {
        "id": "bzLtk6LOb6G0"
      },
      "source": [
        "df.Info"
      ],
      "execution_count": null,
      "outputs": []
    },
    {
      "cell_type": "code",
      "metadata": {
        "id": "T_90TlMUefjs"
      },
      "source": [
        "a = df.Info"
      ],
      "execution_count": null,
      "outputs": []
    },
    {
      "cell_type": "code",
      "metadata": {
        "id": "h-Tz8Fn0gs0R"
      },
      "source": [
        "a"
      ],
      "execution_count": null,
      "outputs": []
    },
    {
      "cell_type": "code",
      "metadata": {
        "id": "DDQHGIvpgugl"
      },
      "source": [
        "import binascii\n",
        "list2=[]\n",
        "for x in range(a.size):\n",
        "  msg = binascii.hexlify(a[x].encode())\n",
        "  d = msg.decode('ASCII')\n",
        "  msglist = []\n",
        "  for i in range(len(d)):\n",
        "    msglist.append(int(d[i],base =16)*16+8)\n",
        "  if (len(msglist)<196):\n",
        "    list2.append(msglist)\n",
        "\n",
        "arr = numpy.array(list2)\n",
        "arr.shape\n",
        "\n",
        "dataset = numpy.zeros((28,28,4100))\n",
        "z=0\n",
        "for j in list2:\n",
        "  flag =0\n",
        "  for i in range(len(j)):\n",
        "    if ((i)%14==0 and i!=0):\n",
        "      flag = flag+2\n",
        "      dataset[flag,0,z] = j[i]\n",
        "      dataset[flag,1,z] = j[i]\n",
        "      dataset[flag+1,0,z] = j[i]\n",
        "      dataset[flag+1,1,z] = j[i]\n",
        "\n",
        "    else:\n",
        "      dataset[flag,(i%14)*2,z] = j[i]\n",
        "      dataset[flag,((i%14)*2)+1,z] = j[i]\n",
        "      dataset[flag+1,(i%14)*2,z] = j[i]\n",
        "      dataset[flag+1,((i%14)*2)+1,z] = j[i]\n",
        "  z=z+1\n",
        "matplotlib.pyplot.imshow(dataset[:,:,2096])\n",
        "\n",
        "print(dataset.shape)\n",
        "data =[]\n",
        "for i in range(2097):\n",
        "  data.append(dataset[:,:,i])\n",
        "data = numpy.array(data)\n",
        "data.shape\n",
        "\n",
        "for i in range(25):\n",
        "\t# define subplot\n",
        "\tmatplotlib.pyplot.subplot(5, 5, 1 + i)\n",
        "\t# turn off axis\n",
        "\tmatplotlib.pyplot.axis('off')\n",
        "\t# plot raw pixel data\n",
        "\tmatplotlib.pyplot.imshow(data[i])\n",
        "matplotlib.pyplot.show()"
      ],
      "execution_count": null,
      "outputs": []
    },
    {
      "cell_type": "code",
      "metadata": {
        "id": "fKxbRBtG9e7x"
      },
      "source": [
        "\tmatplotlib.pyplot.imshow(data[4])"
      ],
      "execution_count": null,
      "outputs": []
    },
    {
      "cell_type": "code",
      "metadata": {
        "id": "m1kvbHa3V7xU"
      },
      "source": [
        "data[4]"
      ],
      "execution_count": null,
      "outputs": []
    },
    {
      "cell_type": "code",
      "metadata": {
        "id": "p8-XooFtD2Pb"
      },
      "source": [
        "from keras.models import Sequential\n",
        "from keras.optimizers import Adam\n",
        "from keras.layers import Dense\n",
        "from keras.layers import Conv2D\n",
        "from keras.layers import Flatten\n",
        "from keras.layers import Dropout\n",
        "from keras.layers import LeakyReLU\n",
        "from keras.utils.vis_utils import plot_model\n",
        "from keras.regularizers import l2\n",
        " \n",
        "# define the standalone discriminator model\n",
        "def define_discriminator(in_shape=(28,28,1)):\n",
        "\tmodel = Sequential()\n",
        "\tmodel.add(Conv2D(64, (4,4), strides=(2, 2), padding='same', input_shape=in_shape, \n",
        "                   kernel_regularizer=l2(0.000025), bias_regularizer=l2(0.000025)))\n",
        "\tmodel.add(LeakyReLU(alpha=0.2))\n",
        "\t#model.add(Dropout(0.4))\n",
        "\tmodel.add(Conv2D(64, (4,4), strides=(2, 2), padding='same', \n",
        "                  kernel_regularizer=l2(0.000025), bias_regularizer=l2(0.000025)))\n",
        "\tmodel.add(LeakyReLU(alpha=0.2))\n",
        "\t#model.add(Dropout(0.4))\n",
        "\tmodel.add(Flatten())\n",
        "\tmodel.add(Dense(1, activation='sigmoid'))\n",
        "\t# compile model\n",
        "\topt = Adam(lr=0.0001, beta_1=0.5)\n",
        "\tmodel.compile(loss='binary_crossentropy', optimizer=opt, metrics=['accuracy'])\n",
        "\treturn model\n",
        " \n",
        "# define model\n",
        "#model = define_discriminator()\n",
        "# summarize the model\n",
        "#model.summary()"
      ],
      "execution_count": null,
      "outputs": []
    },
    {
      "cell_type": "code",
      "metadata": {
        "id": "RgLX7zTFwY_H"
      },
      "source": [
        "plot_model(model, to_file='discriminator_plot.png', show_shapes=True, show_layer_names=True)"
      ],
      "execution_count": null,
      "outputs": []
    },
    {
      "cell_type": "code",
      "metadata": {
        "id": "R1SCvCmTXVAt"
      },
      "source": [
        "def load_real_samples(data):\n",
        "\t# load dataset\n",
        "\ttrainX= data\n",
        "\t# expand to 3d, e.g. add channels dimension\n",
        "\tX = expand_dims(trainX, axis=-1)\n",
        "\t# convert from unsigned ints to floats\n",
        "\tX = X.astype('float32')\n",
        "\t# scale from [0,255] to [0,1]\n",
        "\tX = X / 255.0\n",
        "\treturn X\n",
        "\n",
        "# select real samples\n",
        "def generate_real_samples(dataset, n_samples):\n",
        "\t# choose random instances\n",
        "\tix = randint(0, dataset.shape[0], n_samples)\n",
        "\t# retrieve selected images\n",
        "\tX = dataset[ix]\n",
        "\t# generate 'real' class labels (1)\n",
        "\ty = ones((n_samples, 1))\n",
        "\treturn X, y"
      ],
      "execution_count": null,
      "outputs": []
    },
    {
      "cell_type": "code",
      "metadata": {
        "id": "TWg-NvDIw9oV"
      },
      "source": [
        "from numpy import expand_dims\n",
        "from numpy import ones\n",
        "from numpy import zeros\n",
        "from numpy.random import rand\n",
        "from numpy.random import randint\n",
        "from keras.datasets.mnist import load_data\n",
        "from keras.optimizers import Adam\n",
        "from keras.models import Sequential\n",
        "from keras.layers import Dense\n",
        "from keras.layers import Conv2D\n",
        "from keras.layers import Flatten\n",
        "from keras.layers import Dropout\n",
        "from keras.layers import LeakyReLU\n",
        "def generate_fake_samples(n_samples):\n",
        "\t# generate uniform random numbers in [0,1]\n",
        "\tX = rand(28 * 28 * n_samples)\n",
        "\t# reshape into a batch of grayscale images\n",
        "\tX = X.reshape((n_samples, 28, 28, 1))\n",
        "\t# generate 'fake' class labels (0)\n",
        "\ty = zeros((n_samples, 1))\n",
        "\treturn X, y"
      ],
      "execution_count": null,
      "outputs": []
    },
    {
      "cell_type": "code",
      "metadata": {
        "id": "nXh7AKoJbLWd"
      },
      "source": [
        "def train_discriminator(model, dataset, n_iter=150, n_batch=256):\n",
        "\thalf_batch = int(n_batch / 2)\n",
        "\t# manually enumerate epochs\n",
        "\tfor i in range(n_iter):\n",
        "\t\t# get randomly selected 'real' samples\n",
        "\t\tX_real, y_real = generate_real_samples(dataset, half_batch)\n",
        "\t\t# update discriminator on real samples\n",
        "\t\t_, real_acc = model.train_on_batch(X_real, y_real)\n",
        "\t\t# generate 'fake' examples\n",
        "\t\tX_fake, y_fake = generate_fake_samples(half_batch)\n",
        "\t\t# update discriminator on fake samples\n",
        "\t\t_, fake_acc = model.train_on_batch(X_fake, y_fake)\n",
        "\t\t# summarize performance\n",
        "\t\tprint('>%d real=%.0f%% fake=%.0f%%' % (i+1, real_acc*100, fake_acc*100))\n"
      ],
      "execution_count": null,
      "outputs": []
    },
    {
      "cell_type": "code",
      "metadata": {
        "id": "Ie6baCyp8W2I"
      },
      "source": [
        "# def load_real_samples1(data):\n",
        "# \t# load dataset\n",
        "# \ttrainX= data\n",
        "# \t# expand to 3d, e.g. add channels dimension\n",
        "# \tX = trainX\n",
        "# \t# convert from unsigned ints to floats\n",
        "# \tX = X.astype('float32')\n",
        "# \t# scale from [0,255] to [0,1]\n",
        "# \tX = X /255\n",
        "# \treturn X\n",
        "# dataset2 = load_real_samples1(data)\n",
        "# for i in range(25):\n",
        "# \t# define subplot\n",
        "# \tmatplotlib.pyplot.subplot(5, 5, 1 + i)\n",
        "# \t# turn off axis\n",
        "# \tmatplotlib.pyplot.axis('off')\n",
        "# \t# plot raw pixel data\n",
        "# \tmatplotlib.pyplot.imshow(dataset2[i] , cmap='gray_r')\n",
        "# matplotlib.pyplot.show()"
      ],
      "execution_count": null,
      "outputs": []
    },
    {
      "cell_type": "code",
      "metadata": {
        "id": "5DFWbH9-X8wJ"
      },
      "source": [
        "#dataset = load_real_samples(data)\n",
        "# fit the model\n",
        "#train_discriminator(model, dataset)"
      ],
      "execution_count": null,
      "outputs": []
    },
    {
      "cell_type": "code",
      "metadata": {
        "id": "xFhGyMCH6khD"
      },
      "source": [
        "# example of defining and using the generator model\n",
        "from numpy import zeros\n",
        "from numpy.random import randn\n",
        "from keras.models import Sequential\n",
        "from keras.layers import Dense\n",
        "from keras.layers import Reshape\n",
        "from keras.layers import Conv2D\n",
        "from keras.layers import Conv2DTranspose\n",
        "from keras.layers import LeakyReLU\n",
        "from matplotlib import pyplot\n",
        "\n",
        "# define the standalone generator model\n",
        "def define_generator(latent_dim):\n",
        "  model = Sequential()\n",
        "  model.add(Dense(1024, input_dim=latent_dim))\n",
        "  model.add(LeakyReLU(alpha=0.2))\n",
        "  model.add(Dense(12544))\n",
        "  model.add(LeakyReLU(alpha=0.2))\n",
        "  model.add(Reshape((7, 7, 256)))\n",
        "\t# upsample to 14x14\n",
        "  model.add(Conv2DTranspose(64, (4,4), strides=(2,2), padding='same'))\n",
        "  model.add(LeakyReLU(alpha=0.2))\n",
        "\t# upsample to 28x28\n",
        "  model.add(Conv2DTranspose(32, (4,4), strides=(2,2), padding='same'))\n",
        "  model.add(LeakyReLU(alpha=0.2))\n",
        "  model.add(Conv2D(1, (7,7), activation='sigmoid', padding='same'))\n",
        "  return model\n",
        "\n",
        "# generate points in latent space as input for the generator\n",
        "def generate_latent_points(latent_dim, n_samples):\n",
        "\t# generate points in the latent space\n",
        "\tx_input = randn(latent_dim * n_samples)\n",
        "\t# reshape into a batch of inputs for the network\n",
        "\tx_input = x_input.reshape(n_samples, latent_dim)\n",
        "\treturn x_input\n",
        "\n",
        "# use the generator to generate n fake examples, with class labels\n",
        "def generate_fake_samples(g_model, latent_dim, n_samples):\n",
        "\t# generate points in latent space\n",
        "\tx_input = generate_latent_points(latent_dim, n_samples)\n",
        "\t# predict outputs\n",
        "\tX = g_model.predict(x_input)\n",
        "\t# create 'fake' class labels (0)\n",
        "\ty = zeros((n_samples, 1))\n",
        "\treturn X, y\n",
        "\n",
        "#size of the latent space\n",
        "# latent_dim = 64\n",
        "# #define the discriminator model\n",
        "# model = define_generator(latent_dim)\n",
        "# #generate samples\n",
        "# n_samples = 25\n",
        "# X, _ = generate_fake_samples(model, latent_dim, n_samples)\n",
        "# #plot the generated samples\n",
        "# for i in range(n_samples):\n",
        "# \t#define subplot\n",
        "# \tpyplot.subplot(5, 5, 1 + i)\n",
        "# \t# turn off axis labels\n",
        "# \tpyplot.axis('off')\n",
        "# \t# plot single image\n",
        "# \tpyplot.imshow(X[i, :, :, 0], cmap='gray_r')\n",
        "# # show the figure\n",
        "# pyplot.show()"
      ],
      "execution_count": null,
      "outputs": []
    },
    {
      "cell_type": "code",
      "metadata": {
        "id": "E2g6yNR58JPf"
      },
      "source": [
        "def define_gan(g_model, d_model):\n",
        "\t# make weights in the discriminator not trainable\n",
        "\td_model.trainable = False\n",
        "\t# connect them\n",
        "\tmodel = Sequential()\n",
        "\t# add generator\n",
        "\tmodel.add(g_model)\n",
        "\t# add the discriminator\n",
        "\tmodel.add(d_model)\n",
        "\t# compile model\n",
        "\topt = Adam(lr=0.0002, beta_1=0.5)\n",
        "\tmodel.compile(loss='binary_crossentropy', optimizer=opt)\n",
        "\treturn model"
      ],
      "execution_count": null,
      "outputs": []
    },
    {
      "cell_type": "code",
      "metadata": {
        "id": "KZpRKYSq4lx6"
      },
      "source": [
        "\n",
        "def summarize_performance(epoch, g_model, d_model, dataset, latent_dim, n_samples=100):\n",
        "\t# prepare real samples\n",
        "\tX_real, y_real = generate_real_samples(dataset, n_samples)\n",
        "\t# evaluate discriminator on real examples\n",
        "\t_, acc_real = d_model.evaluate(X_real, y_real, verbose=0)\n",
        "\t# prepare fake examples\n",
        "\tx_fake, y_fake = generate_fake_samples(g_model, latent_dim, n_samples)\n",
        "\t# evaluate discriminator on fake examples\n",
        "\t_, acc_fake = d_model.evaluate(x_fake, y_fake, verbose=0)\n",
        "\t# summarize discriminator performance\n",
        "\tprint('>Accuracy real: %.0f%%, fake: %.0f%%' % (acc_real*100, acc_fake*100))\n",
        "\t# save plot\n",
        "\t# save_plot(x_fake, epoch)\n",
        "\t# # save the generator model tile file\n",
        "\t# filename = 'generator_model_%03d.h5' % (epoch + 1)\n",
        "\t# g_model.save(filename)"
      ],
      "execution_count": null,
      "outputs": []
    },
    {
      "cell_type": "code",
      "metadata": {
        "id": "NcBsCFGN8h9w"
      },
      "source": [
        "def train(g_model, d_model, gan_model, dataset, latent_dim, n_epochs=100, n_batch=256):\n",
        "\tbat_per_epo = int(dataset.shape[0] / n_batch)\n",
        "\thalf_batch = int(n_batch / 2)\n",
        "\t# manually enumerate epochs\n",
        "\tfor i in range(n_epochs):\n",
        "\t\t# enumerate batches over the training set\n",
        "\t\tfor j in range(bat_per_epo):\n",
        "\t\t\t# get randomly selected 'real' samples\n",
        "\t\t\tX_real, y_real = generate_real_samples(dataset, half_batch)\n",
        "\t\t\t# generate 'fake' examples\n",
        "\t\t\tX_fake, y_fake = generate_fake_samples(g_model, latent_dim, half_batch)\n",
        "\t\t\t# create training set for the discriminator\n",
        "\t\t\tX, y = vstack((X_real, X_fake)), vstack((y_real, y_fake))\n",
        "\t\t\t# update discriminator model weights\n",
        "\t\t\td_loss, _ = d_model.train_on_batch(X, y)\n",
        "\t\t\t# prepare points in latent space as input for the generator\n",
        "\t\t\tX_gan = generate_latent_points(latent_dim, n_batch)\n",
        "\t\t\t# create inverted labels for the fake samples\n",
        "\t\t\ty_gan = ones((n_batch, 1))\n",
        "\t\t\t# update the generator via the discriminator's error\n",
        "\t\t\tg_loss = gan_model.train_on_batch(X_gan, y_gan)\n",
        "\t\t\t# summarize loss on this batch\n",
        "\t\t\tprint('>%d, %d/%d, d=%.3f, g=%.3f' % (i+1, j+1, bat_per_epo, d_loss, g_loss))\n",
        "\t\t# evaluate the model performance, sometimes\n",
        "\t\tif (i+1) % 1 == 0:\n",
        "\t\t\tsummarize_performance(i, g_model, d_model, dataset, latent_dim)"
      ],
      "execution_count": null,
      "outputs": []
    },
    {
      "cell_type": "code",
      "metadata": {
        "id": "LxAzcttv8mct"
      },
      "source": [
        "from numpy import vstack\n",
        "# size of the latent space\n",
        "latent_dim = 64\n",
        "# create the discriminator\n",
        "d_model = define_discriminator()\n",
        "# create the generator\n",
        "g_model = define_generator(latent_dim)\n",
        "# create the gan\n",
        "gan_model = define_gan(g_model, d_model)\n",
        "# load image data\n",
        "dataset = load_real_samples(data)\n",
        "# train model\n",
        "train(g_model, d_model, gan_model, dataset, latent_dim)"
      ],
      "execution_count": null,
      "outputs": []
    },
    {
      "cell_type": "code",
      "metadata": {
        "id": "pe08u-J1bPId"
      },
      "source": [
        "from numpy.random import randn\n",
        "from matplotlib import pyplot\n",
        "\n",
        "\n",
        "def generate_latent_points(latent_dim, n_samples):\n",
        "\t# generate points in the latent space\n",
        "\tx_input = randn(latent_dim * n_samples)\n",
        "\t# reshape into a batch of inputs for the network\n",
        "\tx_input = x_input.reshape(n_samples, latent_dim)\n",
        "\treturn x_input\n",
        " \n",
        "# create and save a plot of generated images (reversed grayscale)\n",
        "def save_plot(examples, n):\n",
        "\t# plot images\n",
        "\tfor i in range(n * n):\n",
        "\t\t# define subplot\n",
        "\t\tpyplot.subplot(n, n, 1 + i)\n",
        "\t\t# turn off axis\n",
        "\t\tpyplot.axis('off')\n",
        "\t\t# plot raw pixel data\n",
        "\t\tpyplot.imshow(examples[i, :, :, 0])\n",
        "\tpyplot.show()\n",
        " \n",
        "# load model\n",
        "model = g_model\n",
        "# generate images\n",
        "latent_points = generate_latent_points(64, 25)\n",
        "# generate images\n",
        "X = model.predict(latent_points)\n",
        "# plot the result\n",
        "save_plot(X, 5)"
      ],
      "execution_count": null,
      "outputs": []
    },
    {
      "cell_type": "code",
      "metadata": {
        "id": "DC4wRn0aSeWN"
      },
      "source": [
        "X.shape"
      ],
      "execution_count": null,
      "outputs": []
    },
    {
      "cell_type": "code",
      "metadata": {
        "id": "EUtONlOQSq6x"
      },
      "source": [
        "X= X*255"
      ],
      "execution_count": null,
      "outputs": []
    },
    {
      "cell_type": "code",
      "metadata": {
        "id": "R2w32iz6SweE"
      },
      "source": [
        "X"
      ],
      "execution_count": null,
      "outputs": []
    },
    {
      "cell_type": "code",
      "metadata": {
        "id": "xinOP10wSzka"
      },
      "source": [
        "X = X.astype(int)"
      ],
      "execution_count": null,
      "outputs": []
    },
    {
      "cell_type": "code",
      "metadata": {
        "id": "hxUq61paTKpT"
      },
      "source": [
        "X"
      ],
      "execution_count": null,
      "outputs": []
    },
    {
      "cell_type": "code",
      "metadata": {
        "id": "4oaWyo9wTVAn"
      },
      "source": [
        "import numpy as np\n",
        "X = np.random.rand(25,28,28,1)"
      ],
      "execution_count": null,
      "outputs": []
    },
    {
      "cell_type": "code",
      "metadata": {
        "id": "Nxcc6USIYhSM"
      },
      "source": [
        "X.shape"
      ],
      "execution_count": null,
      "outputs": []
    },
    {
      "cell_type": "code",
      "metadata": {
        "id": "vYxVDevEZDPm"
      },
      "source": [
        "X = X*255\n",
        "X = X.astype(int)\n",
        "X= X.reshape(25,28,28)\n",
        "X"
      ],
      "execution_count": null,
      "outputs": []
    },
    {
      "cell_type": "code",
      "metadata": {
        "id": "6xq_UC0TodrV"
      },
      "source": [
        "X[0]"
      ],
      "execution_count": null,
      "outputs": []
    },
    {
      "cell_type": "code",
      "metadata": {
        "id": "YQUSimhcaOs9"
      },
      "source": [
        "max1 = max(5,6,4,3,8)\n",
        "max1\n",
        "b = \"\"\n",
        "b = b + 'a'\n",
        "b = b + 'G'\n",
        "b"
      ],
      "execution_count": null,
      "outputs": []
    },
    {
      "cell_type": "code",
      "metadata": {
        "id": "YGQhleftsutO"
      },
      "source": [
        "F= X[0]\n",
        "F.shape\n",
        "F= F.reshape(28*28)\n",
        "j=0\n",
        "print(F[0])\n",
        "print(F[1])\n",
        "print(F[2])\n",
        "print(F[3])\n",
        "max1 = max(F[0],F[1],F[2],F[3])\n",
        "max1"
      ],
      "execution_count": null,
      "outputs": []
    },
    {
      "cell_type": "code",
      "metadata": {
        "id": "hqq0LpQ1Z7j3"
      },
      "source": [
        "\n",
        "for i in range(25):\n",
        "  Y = X[i].reshape(28*28)\n",
        "  a = \"\"\n",
        "  for j in range(28*28-8):\n",
        "    max1 = max(Y[j],Y[j+1],Y[j+2],Y[j+3])\n",
        "    # print(\"MAX!\")\n",
        "    # print(max1)\n",
        "    if(max1!=0):\n",
        "      max1=(max1-8)\n",
        "    max2 = max(Y[j+4],Y[j+5],Y[j+6],Y[j+7])\n",
        "    if(max2!=0):\n",
        "      max2=(max2-8)/16\n",
        "    \n",
        "    max1 = max1 + max2\n",
        "    max1 = max1.astype(int)\n",
        "    if(max1>250):\n",
        "      max1=250\n",
        "    if(max1<=0):\n",
        "      max1 =32\n",
        "    #print(max1)\n",
        "    output = chr(max1)\n",
        "    #print(output)\n",
        "    a += output\n",
        "    j=j+8\n",
        "  print(a)\n",
        "  print('\\n')"
      ],
      "execution_count": null,
      "outputs": []
    },
    {
      "cell_type": "code",
      "metadata": {
        "id": "EfsoT6eBlYaE"
      },
      "source": [
        "f = [[ 46,  57,  68,  64,  57,  51,  42,  60,  84,  95,  55,  75,  46,\n",
        "         30,   2,   1,  70,  83, 248, 245, 103, 150, 135, 116, 196, 147,\n",
        "        206, 183],\n",
        "       [ 48,  54, 102, 100,  65,  37,  46,  46,  63,  56,  34,  18,  15,\n",
        "         28,   5,   4, 120,  14, 246, 238,  48, 112, 189, 120, 184, 111,\n",
        "        205, 190],\n",
        "       [ 48, 111,  44,  73,  68,  79,  41,  29,  72,  69,   6,   9,  19,\n",
        "         28, 203, 159,  30,  55,   2,   2,  49,  95, 227,  93,  28,  69,\n",
        "        175, 144],\n",
        "       [ 69,  76,  58,  62,  69,  60,  42,  34,  54,  71,   2,   2,  16,\n",
        "         24, 219, 208,  54,  42,   0,   1,  25,  24,  74,  35,  57,  15,\n",
        "         49,  92],\n",
        "       [ 33,  17,   1,   1,   3,   5,   0,   1,   7,   7,  10,  22,   1,\n",
        "          6,   2,   0,   1,   0,   0,   0,   3,   3,   0,   0,   9,  32,\n",
        "          9,  28],\n",
        "       [ 20,   6,   1,   1,   2,   2,   0,   0,   1,  11,   4,  10,   6,\n",
        "          3,   3,   0,   0,   0,   0,   0,   1,   5,   0,   0,   6,  12,\n",
        "         14,  14],\n",
        "       [  1,   0,   0,   0,   0,   0,   0,   0,   0,   1,   8,  12,   8,\n",
        "          1,   0,   0,   0,   0,   0,   0,   0,   1,   0,   0,   2,   8,\n",
        "          5,   1],\n",
        "       [  2,   0,   0,   0,   0,   1,   0,   0,   1,   0,   6,  14,   0,\n",
        "          3,   0,   0,   0,   0,   0,   0,   1,   2,   0,   0,   6,  10,\n",
        "          1,   1],\n",
        "       [  0,   0,   0,   0,   0,   0,   0,   0,   0,   0,   0,   0,   0,\n",
        "          0,   0,   0,   0,   0,   0,   0,   0,   0,   0,   0,   0,   0,\n",
        "          0,   0],\n",
        "       [  0,   0,   0,   0,   0,   0,   0,   0,   0,   0,   0,   0,   0,\n",
        "          0,   0,   0,   0,   0,   0,   0,   0,   0,   0,   0,   0,   0,\n",
        "          0,   0],\n",
        "       [  0,   0,   0,   0,   0,   0,   0,   0,   0,   0,   0,   0,   0,\n",
        "          0,   0,   0,   0,   0,   0,   0,   0,   0,   0,   0,   0,   0,\n",
        "          0,   0],\n",
        "       [  0,   0,   0,   0,   0,   0,   0,   0,   0,   0,   0,   0,   0,\n",
        "          0,   0,   0,   0,   0,   0,   0,   0,   0,   0,   0,   0,   0,\n",
        "          0,   0],\n",
        "       [  0,   0,   0,   0,   0,   0,   0,   0,   0,   0,   0,   0,   0,\n",
        "          0,   0,   0,   0,   0,   0,   0,   0,   0,   0,   0,   0,   0,\n",
        "          0,   0],\n",
        "       [  0,   0,   0,   0,   0,   0,   0,   0,   0,   0,   0,   0,   0,\n",
        "          0,   0,   0,   0,   0,   0,   0,   0,   0,   0,   0,   0,   0,\n",
        "          0,   0],\n",
        "       [  0,   0,   0,   0,   0,   0,   0,   0,   0,   0,   0,   0,   0,\n",
        "          0,   0,   0,   0,   0,   0,   0,   0,   0,   0,   0,   0,   0,\n",
        "          0,   0],\n",
        "       [  0,   0,   0,   0,   0,   0,   0,   0,   0,   0,   0,   0,   0,\n",
        "          0,   0,   0,   0,   0,   0,   0,   0,   0,   0,   0,   0,   0,\n",
        "          0,   0],\n",
        "       [  0,   0,   0,   0,   0,   0,   0,   0,   0,   0,   0,   0,   0,\n",
        "          0,   0,   0,   0,   0,   0,   0,   0,   0,   0,   0,   0,   0,\n",
        "          0,   0],\n",
        "       [  0,   0,   0,   0,   0,   0,   0,   0,   0,   0,   0,   0,   0,\n",
        "          0,   0,   0,   0,   0,   0,   0,   0,   0,   0,   0,   0,   0,\n",
        "          0,   0],\n",
        "       [  0,   0,   0,   0,   0,   0,   0,   0,   0,   0,   0,   0,   0,\n",
        "          0,   0,   0,   0,   0,   0,   0,   0,   0,   0,   0,   0,   0,\n",
        "          0,   0],\n",
        "       [  0,   0,   0,   0,   0,   0,   0,   0,   0,   0,   0,   0,   0,\n",
        "          0,   0,   0,   0,   0,   0,   0,   0,   0,   0,   0,   0,   0,\n",
        "          0,   0],\n",
        "       [  0,   0,   0,   0,   0,   0,   0,   0,   0,   0,   0,   0,   0,\n",
        "          0,   0,   0,   0,   0,   0,   0,   0,   0,   0,   0,   0,   0,\n",
        "          0,   0],\n",
        "       [  0,   0,   0,   0,   0,   0,   0,   0,   0,   0,   0,   0,   0,\n",
        "          0,   0,   0,   0,   0,   0,   0,   0,   0,   0,   0,   0,   0,\n",
        "          0,   0],\n",
        "       [  0,   0,   0,   0,   0,   0,   0,   0,   0,   0,   0,   0,   0,\n",
        "          0,   0,   0,   0,   0,   0,   0,   0,   0,   0,   0,   0,   0,\n",
        "          0,   0],\n",
        "       [  0,   0,   0,   0,   0,   0,   0,   0,   0,   0,   0,   0,   0,\n",
        "          0,   0,   0,   0,   0,   0,   0,   0,   0,   0,   0,   0,   0,\n",
        "          0,   0],\n",
        "       [  0,   0,   0,   0,   0,   0,   0,   0,   0,   0,   0,   0,   0,\n",
        "          0,   0,   0,   0,   0,   0,   0,   0,   0,   0,   0,   0,   0,\n",
        "          0,   0],\n",
        "       [  0,   0,   0,   0,   0,   0,   0,   0,   0,   0,   0,   0,   0,\n",
        "          0,   0,   0,   0,   0,   0,   0,   0,   0,   0,   0,   0,   0,\n",
        "          0,   0],\n",
        "       [  0,   0,   0,   0,   0,   0,   0,   0,   0,   0,   0,   0,   0,\n",
        "          0,   0,   0,   0,   0,   0,   0,   0,   0,   0,   0,   0,   0,\n",
        "          0,   0],\n",
        "       [  0,   0,   0,   0,   0,   0,   0,   0,   0,   0,   0,   0,   0,\n",
        "          0,   0,   0,   0,   0,   0,   0,   0,   0,   0,   0,   0,   0,\n",
        "          0,   0]]"
      ],
      "execution_count": null,
      "outputs": []
    },
    {
      "cell_type": "code",
      "metadata": {
        "id": "FhpjbftvD400"
      },
      "source": [
        "f.shape"
      ],
      "execution_count": null,
      "outputs": []
    },
    {
      "cell_type": "code",
      "metadata": {
        "id": "IKp981eXEAJd"
      },
      "source": [
        "import numpy as np\n",
        "arr = np.array(f)"
      ],
      "execution_count": null,
      "outputs": []
    },
    {
      "cell_type": "code",
      "metadata": {
        "id": "mLWgg8UOELjs"
      },
      "source": [
        "arr.shape"
      ],
      "execution_count": null,
      "outputs": []
    },
    {
      "cell_type": "code",
      "metadata": {
        "id": "5Aa2P4PlET4x"
      },
      "source": [
        "arr = arr.reshape(28*28)"
      ],
      "execution_count": null,
      "outputs": []
    },
    {
      "cell_type": "code",
      "metadata": {
        "id": "1lq3itZJEXfm"
      },
      "source": [
        "arr.shape"
      ],
      "execution_count": null,
      "outputs": []
    },
    {
      "cell_type": "code",
      "metadata": {
        "id": "L45GdBzmEcpU"
      },
      "source": [
        "arr\n",
        "Y = arr"
      ],
      "execution_count": null,
      "outputs": []
    },
    {
      "cell_type": "code",
      "metadata": {
        "id": "5BSi3aHdEkTw"
      },
      "source": [
        "a = \"\"\n",
        "for j in range(0,28*28-8,8):\n",
        "  #print(j)\n",
        "  max1 = max(Y[j],Y[j+1],Y[j+2],Y[j+3])\n",
        "  # print(\"MAX!\")\n",
        "  # print(max1)\n",
        "  if(max1!=0):\n",
        "    max1=(max1-8)\n",
        "  max2 = max(Y[j+4],Y[j+5],Y[j+6],Y[j+7])\n",
        "  if(max2!=0):\n",
        "    max2=(max2-8)/16\n",
        "  \n",
        "  max1 = max1 + max2\n",
        "  max1 = max1.astype(int)\n",
        "\n",
        "  \n",
        "  if(max1<=0):\n",
        "    max1 =32\n",
        "  print(max1)\n",
        "  output = chr(max1)\n",
        "  #print(output)\n",
        "  a += output\n",
        "  print(a)"
      ],
      "execution_count": null,
      "outputs": []
    },
    {
      "cell_type": "code",
      "metadata": {
        "id": "OfeWCcTYE5zI"
      },
      "source": [
        ""
      ],
      "execution_count": null,
      "outputs": []
    }
  ]
}